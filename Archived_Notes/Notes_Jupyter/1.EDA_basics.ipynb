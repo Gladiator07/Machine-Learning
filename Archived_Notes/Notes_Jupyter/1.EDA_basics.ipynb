{
 "cells": [
  {
   "cell_type": "markdown",
   "metadata": {},
   "source": [
    "# What is Exploratory Data Analysis?"
   ]
  },
  {
   "cell_type": "markdown",
   "metadata": {},
   "source": [
    "Some of the questions that EDA answers are:\n",
    "- How to ensure you are ready to use machine learning algorithms in a project?\n",
    "- How to choose the most suitable algorithms for your data set?\n",
    "- How to define the feature variables that can be potentially be used for machine learning?"
   ]
  },
  {
   "cell_type": "markdown",
   "metadata": {},
   "source": [
    "**Exploratory Data Analysis(EDA)** helps to answer all these questions, ensuring the best outcomes for the project. It is an approach for summarizing, visualizaing, and becoming intiamately familiar with the important charachteristics of a data set."
   ]
  },
  {
   "cell_type": "markdown",
   "metadata": {},
   "source": [
    "EDA is an approach to analyzing the datasets to summarize their main charachteristics, often with visual methods.\n",
    "\n",
    "In EDA, a statistical model can be used or not, but primarily EDA is for seeing what the data can tell us beyond the formal modelling or hypothesis testing task."
   ]
  },
  {
   "cell_type": "markdown",
   "metadata": {},
   "source": [
    "## Intiution with an example\n",
    "\n",
    "Imagine that you want to buy a new smartphone. You go to a local shop and the seller shows you the smartphone you never heard of.\n",
    "There is absolutely no debate about that, it will lead to a state where you find yourself puzzled with lot of questions which needs to be answered before you make a decision. \n",
    "\n",
    "Common questions you will ask, How is the camera?, How much is the RAM?, Is the screen amoled or not?, what is the memory size?, etc...\n",
    "\n",
    "As a regular practice, you would also see the reviews of that smartphone on the internet.\n",
    "\n",
    "Whatever investigating measures you would take before finally buying any smartphone, is nothing but what data scientists in their lingo call 'Exploratory Data Analysis'"
   ]
  },
  {
   "cell_type": "markdown",
   "metadata": {},
   "source": [
    "Exploratory Data Analysis refers to the critical process of performing initial investigations on data so as to discover patterns,to spot anomalies,to test hypothesis and to check assumptions with the help of summary statistics and graphical representations.\n",
    "\n",
    "It is a good practice to understand the data first and try to gather as many insights from it. \n",
    "\n",
    "EDA is all about making sense of data in hand, before getting dirty with it."
   ]
  },
  {
   "cell_type": "markdown",
   "metadata": {},
   "source": [
    "EDA is performed in order to define and refine the selection of feature variables that will be used for machine learning. \n",
    "\n",
    "Once data scientists become familiar with the data set, they often have to return to feature engineering step, since the initial features may turn out not to be serving their intended purpose. \n",
    "\n",
    "Once the EDA stage is complete, data scientists get a firm feature set they need for supervised and unsupervised machine learning."
   ]
  },
  {
   "cell_type": "markdown",
   "metadata": {},
   "source": [
    "## Methods of Exploratory Data Analysis"
   ]
  },
  {
   "cell_type": "markdown",
   "metadata": {},
   "source": [
    "It is always better to explore each data set using multiple exploratory techniques and compare the results. Once the data set is fully understood, it is quite possible that data scientist will have to go back to data collection and cleansing phases in order to transform the data set according to the desired business outcomes. The goal of this step is to become confident that the data set is ready to be used in a machine learning algorithm.\n",
    "\n",
    "Exploratory Data Analysis is majorly performed using the following methods:"
   ]
  },
  {
   "cell_type": "markdown",
   "metadata": {},
   "source": [
    "- Univariate visualization — provides summary statistics for each field in the raw data set\n",
    "- Bivariate visualization — is performed to find the relationship between each variable in the dataset and the target variable of interest\n",
    "- Multivariate visualization — is performed to understand interactions between different fields in the dataset\n",
    "- Dimensionality reduction — helps to understand the fields in the data that account for the most variance between observations and allow for the processing of a reduced volume of data. Through these methods, the data scientist validates assumptions and identifies patterns that will allow for the understanding of the problem and model selection and validates that the data has been generated in the way it was expected to. So, value distribution of each field is checked, a number of missing values is defined, and the possible ways of replacing them are found.\n"
   ]
  },
  {
   "cell_type": "markdown",
   "metadata": {},
   "source": [
    "Additional benefits Exploratory Data Analysis brings to projects Another side benefit of EDA is that it allows to specify or even define the questions you are trying to get the answer to from your data. \n",
    "\n",
    "Companies, that are only starting to leverage Data Science and AI technologies, often face the situation when they realize, that they have a lot of data and no ideas of what value that data can bring to their business decision making."
   ]
  },
  {
   "cell_type": "markdown",
   "metadata": {},
   "source": [
    "However, the questions always come first in data analysis. It doesn’t matter how much data company has, how many tools they have available, whether the data is historical or real time unless business stakeholders have the questions they are trying to solve with their data. \n",
    "\n",
    "EDA can help such companies to start formalizing the right questions, since with wrong questions you get the wrong answers, and take the wrong decisions."
   ]
  },
  {
   "cell_type": "markdown",
   "metadata": {},
   "source": [
    "## Why skipping Exploratory Data Analysis is a bad idea ?"
   ]
  },
  {
   "cell_type": "markdown",
   "metadata": {},
   "source": [
    "In a hurry to get to the machine learning stage or simply impress business stakeholders very fast, data scientists tend to either entirely skip the exploratory process or do a very shallow work. It is a very serious and, sadly, common mistake of amateur data science consulting “professionals”."
   ]
  },
  {
   "cell_type": "markdown",
   "metadata": {},
   "source": [
    "Such inconsiderate behavior can lead to skewed data, with outliers and too many missing values and, therefore, some sad outcomes for the project:\n",
    "\n",
    "- generating inaccurate models;\n",
    "- generating accurate models on the wrong data;\n",
    "- choosing the wrong variables for the model;\n",
    "- inefficient use of the resources, including the rebuilding of the model"
   ]
  },
  {
   "cell_type": "markdown",
   "metadata": {},
   "source": [
    "Exploratory Data Analysis (EDA) is used on the one hand to answer questions, test business assumptions, generate hypotheses for further analysis. On the other hand, you can also use it to prepare the data for modeling.\n",
    "\n",
    "The thing that these two probably have in common is a good knowledge of your data to either get the answers that you need or to develop an intuition for interpreting the results of future modeling.\n",
    "\n",
    "There are a lot of ways to reach these goals as follows:"
   ]
  },
  {
   "cell_type": "markdown",
   "metadata": {},
   "source": [
    "- Import the data\n",
    "- Get a feel of the data ,describe the data,look at a sample of data like first and last rows\n",
    "- Take a deeper look into the data by querying or indexing the data\n",
    "- Identify features of interest\n",
    "- Recognise the challenges posed by data - missing values, outliers\n",
    "- Discover patterns in the data"
   ]
  },
  {
   "cell_type": "markdown",
   "metadata": {},
   "source": [
    "#### One of the important things about EDA is Data profiling."
   ]
  },
  {
   "cell_type": "markdown",
   "metadata": {},
   "source": [
    "**Data Profiling** is concerned with summarizing your dataset through descriptive statistics. You want to use a variety of measurements to better understand your dataset. The goal of data profiling is to have a solid understanding of your data so you can afterwards start querying and visualizing your data in various ways. \n",
    "\n",
    "However, this doesn’t mean that you don’t have to iterate: exactly because data profiling is concerned with summarizing your dataset, it is frequently used to assess the data quality. Depending on the result of the data profiling, you might decide to correct, discard or handle your data differently."
   ]
  },
  {
   "cell_type": "markdown",
   "metadata": {},
   "source": [
    "## Key Concepts of Exploratory Data Analysis"
   ]
  },
  {
   "cell_type": "markdown",
   "metadata": {},
   "source": [
    "####  2 types of Data Analysis"
   ]
  },
  {
   "cell_type": "markdown",
   "metadata": {},
   "source": [
    "- Confirmatory Data Analysis\n",
    "- Exploratory Data Analysis"
   ]
  },
  {
   "cell_type": "markdown",
   "metadata": {},
   "source": [
    "#### 4 Objectives of EDA\n",
    "- Discover Patterns\n",
    "- Spot Anomalies\n",
    "- Frame Hypothesis\n",
    "- Check Assumptions"
   ]
  },
  {
   "cell_type": "markdown",
   "metadata": {},
   "source": [
    "#### 2 methods for exploration\n",
    "- Univariate Analysis\n",
    "- Bivariate Analysis"
   ]
  },
  {
   "cell_type": "markdown",
   "metadata": {},
   "source": [
    "#### Stuff done during EDA\n",
    "- Trends\n",
    "- Distribution\n",
    "- Mean\n",
    "- Median\n",
    "- Outlier\n",
    "- Spread Measurement (SD)\n",
    "- Correlations\n",
    "- Hypothesis Testing\n",
    "- Visual Exploration"
   ]
  }
 ],
 "metadata": {
  "kernelspec": {
   "display_name": "Python 3",
   "language": "python",
   "name": "python3"
  },
  "language_info": {
   "codemirror_mode": {
    "name": "ipython",
    "version": 3
   },
   "file_extension": ".py",
   "mimetype": "text/x-python",
   "name": "python",
   "nbconvert_exporter": "python",
   "pygments_lexer": "ipython3",
   "version": "3.7.7"
  }
 },
 "nbformat": 4,
 "nbformat_minor": 4
}
