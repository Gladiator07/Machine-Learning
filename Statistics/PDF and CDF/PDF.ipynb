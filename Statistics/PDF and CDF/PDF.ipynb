{
 "cells": [
  {
   "cell_type": "markdown",
   "metadata": {},
   "source": [
    "# Probability Density Function"
   ]
  },
  {
   "cell_type": "markdown",
   "metadata": {},
   "source": [
    "This concept requires prerequisite knowledge of Random Variables \n",
    "\n",
    "If you want to brush up the knowledge, check out [this link](https://github.com/Gladiator07/Machine-Learning-Complete/tree/master/Statistics/Random%20Variable)"
   ]
  },
  {
   "cell_type": "markdown",
   "metadata": {},
   "source": [
    "PDF is a statistical term that describes the probability distribution of the continuous random variable\n",
    "\n",
    "It represents the range of possible values of a continuous random variable\n",
    "\n",
    "The area under the curve represents the interval of which a continuous random variable will fall, and the total area of the interval represents the probability that the variable will occur"
   ]
  },
  {
   "cell_type": "markdown",
   "metadata": {},
   "source": [
    "![image](https://images.deepai.org/django-summernote/2019-05-29/1272935b-3a41-4d5a-9ce3-04c30bd0c10b.gif)"
   ]
  },
  {
   "cell_type": "markdown",
   "metadata": {},
   "source": [
    "The main difference between PDF and PMF is that PDF is used for continuous random variable whereas PMF is used for discrete random variable"
   ]
  },
  {
   "cell_type": "markdown",
   "metadata": {},
   "source": [
    "Formula for calculating PDF can be written as:\n",
    "![image](https://miro.medium.com/max/875/1*5WHytMF-WUpYt8E4uCOFMg.jpeg)"
   ]
  },
  {
   "cell_type": "markdown",
   "metadata": {},
   "source": [
    "PDF most commonly follows the Gaussian Distribution. \n",
    "\n",
    "If the features / random variables are Gaussian distributed then PDF also follows Gaussian Distribution. \n",
    "\n",
    "On PDF graph the probability of single outcome is always zero, this happened because the single point represents the line which doesn’t cover the area under the curve.\n"
   ]
  },
  {
   "cell_type": "markdown",
   "metadata": {},
   "source": [
    "## Example"
   ]
  },
  {
   "cell_type": "markdown",
   "metadata": {},
   "source": [
    "The Probability Density Function works by conceptualizing the probabilities of a continuous random event occurring by defining a range, or interval. \n",
    "\n",
    "For example, if one wanted to calculate the probability that a specific temperature, say 70 degrees, will be reached, they may turn to a probability mass function, as the variable is defined in discrete terms. \n",
    "\n",
    "However, if one wanted to calculate the probability that a temperature between 70-75 degrees will be reached, they may use a probability density function, as the variable is defined as a range with infinite discrete values. \n",
    "\n",
    "Since the Probability Density Function defines probabilities with intervals, the probability of a single discrete value is defined as zero, since it does not have a range."
   ]
  },
  {
   "cell_type": "markdown",
   "metadata": {},
   "source": [
    "### Probability Density Functions and Machine Learning\n",
    "\n",
    "A Probability Density Function is a tool used by machine learning algorithms and neural networks that are trained to calculate probabilities from continuous random variables. \n",
    "\n",
    "For example, a neural network that is looking at financial markets and attempting to guide investors may calculate the probability of the stock market rising 5-10%. To do so, it could use a Probability Density Function in order to calculate the total probability that the continuous random variable range will occur"
   ]
  },
  {
   "cell_type": "markdown",
   "metadata": {},
   "source": [
    "Other references:\n",
    "- https://www.youtube.com/watch?v=PYIjkw0HN1Q - Krish Naik"
   ]
  }
 ],
 "metadata": {
  "kernelspec": {
   "display_name": "Python 3",
   "language": "python",
   "name": "python3"
  },
  "language_info": {
   "codemirror_mode": {
    "name": "ipython",
    "version": 3
   },
   "file_extension": ".py",
   "mimetype": "text/x-python",
   "name": "python",
   "nbconvert_exporter": "python",
   "pygments_lexer": "ipython3",
   "version": "3.7.7"
  }
 },
 "nbformat": 4,
 "nbformat_minor": 4
}
