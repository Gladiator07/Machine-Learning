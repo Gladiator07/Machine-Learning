{
 "cells": [
  {
   "cell_type": "markdown",
   "metadata": {},
   "source": [
    "## What is a Random Variable ?"
   ]
  },
  {
   "cell_type": "markdown",
   "metadata": {},
   "source": [
    "In probability and statistics, a random variable, a random quantity, aleaory variable or stochastic variable is described informally as a variable whose values depends on outcomes of a random phenomenon"
   ]
  },
  {
   "cell_type": "markdown",
   "metadata": {},
   "source": [
    "A random variable possible values might represent the possible outcomes of a yet-to-be performed experiment. In other words, a random variable is defined as a variable whose possible values are outcomes of a random phenomenon. In specific terms, it is a function that maps the outcomes of an unpredictable process in numerical terms, often represented as a real number.\n",
    "\n",
    "As it is subject to randomness, it takes different values"
   ]
  },
  {
   "cell_type": "markdown",
   "metadata": {},
   "source": [
    "## Why Random Variables ?"
   ]
  },
  {
   "cell_type": "markdown",
   "metadata": {},
   "source": [
    "Random Variables allows us to ask questions in mathematical way\n",
    "\n",
    "If we flip 5 coins and want to answers questions like:\n",
    "\n",
    "1. What is the probability of getting exactly 3 heads?\n",
    "2. What is the probability of getting less than 4 heads?\n",
    "3. What is the probability of getting more than 1 head?\n",
    "\n",
    "Then our general way of writing would be:\n",
    "\n",
    "- P(Probability of getting exactly 3 heads when we flip a coin 5 times)\n",
    "- P(Probability of getting less than 4 heads when we flip a coin 5 times)\n",
    "- P(Probability of getting more than 1 head when we flip a coin 5 times)\n",
    "\n",
    "But if we use random variables to represent above questions then we would write:\n",
    "1. P(X=3)\n",
    "2. P(X<4)\n",
    "3. P(X>1)\n",
    "\n",
    "As we can see above random variables makes our task much easier to quantify results of any random process and apply math and perform further computation."
   ]
  },
  {
   "cell_type": "markdown",
   "metadata": {},
   "source": [
    "Suppose we have a random process/experiment of flipping a coin. One of the two possible outcomes could be either head or a tail. Here, we use X to denote random variable, which represents the outcomes of this random process.\n",
    "\n",
    "We can write:\n",
    "\n",
    "X = 1, if the outcome is head\n",
    "\n",
    "X = 0, if the outcome is tail\n",
    "\n",
    "Here, the random variable X is mapping the outcomes of the random process (flipping a coin) to the numerical values (1 or 0).\n",
    "\n",
    "![image](https://images.deepai.org/glossary-terms/random-variable-4279649.jpg)"
   ]
  },
  {
   "cell_type": "markdown",
   "metadata": {},
   "source": [
    "### Summarizing in three points\n",
    "\n",
    "*We have an experiment*\n",
    "\n",
    "*We give values to each event*\n",
    "\n",
    "*These set of values is a random variable*"
   ]
  },
  {
   "cell_type": "markdown",
   "metadata": {},
   "source": [
    "## How Random Variable are different from traditional variables used in algebra ?\n",
    "\n",
    "In algebra, we use variables like x, y, z. x can be number of students, y can be number of boys and z can be number of girls in a class.\n",
    "\n",
    "So we can represent x as:\n",
    "\n",
    "x = y + z\n",
    "\n",
    "Traditional variables are just alphabetical characters used to denote an unknown or known number. Variables used in algebra cannot have more than a single value at a time.\n",
    "\n",
    "Whereas, a random variable can hold a set of values.\n",
    "\n",
    "If random variable X={0,1,2,3}, then X could be 0,1,2 or 3 randomly where each of them might have a different probability of occurring.\n",
    "\n",
    "In summary,\n",
    "\n",
    "***Random variable is function that maps a sample space(set of all possible outcomes of an experiment) to a set of discrete real values.***"
   ]
  },
  {
   "cell_type": "code",
   "execution_count": null,
   "metadata": {},
   "outputs": [],
   "source": []
  }
 ],
 "metadata": {
  "kernelspec": {
   "display_name": "Python 3",
   "language": "python",
   "name": "python3"
  },
  "language_info": {
   "codemirror_mode": {
    "name": "ipython",
    "version": 3
   },
   "file_extension": ".py",
   "mimetype": "text/x-python",
   "name": "python",
   "nbconvert_exporter": "python",
   "pygments_lexer": "ipython3",
   "version": "3.7.7"
  }
 },
 "nbformat": 4,
 "nbformat_minor": 4
}
