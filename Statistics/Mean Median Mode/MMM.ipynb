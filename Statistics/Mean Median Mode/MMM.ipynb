{
 "cells": [
  {
   "cell_type": "markdown",
   "metadata": {},
   "source": [
    "# Mean Median Mode"
   ]
  },
  {
   "cell_type": "markdown",
   "metadata": {},
   "source": [
    "##### These are the measures of central tendency of a dataset"
   ]
  },
  {
   "cell_type": "markdown",
   "metadata": {},
   "source": [
    "![image](https://miro.medium.com/max/875/0*kpDXp8PWuQ6mWAVJ.png)"
   ]
  },
  {
   "cell_type": "markdown",
   "metadata": {},
   "source": [
    "### Mean"
   ]
  },
  {
   "cell_type": "markdown",
   "metadata": {},
   "source": [
    "Mean is given by the total of the values of the samples divided by the number of samples.\n",
    "\n",
    "In mathematical terms this would mean:"
   ]
  },
  {
   "cell_type": "markdown",
   "metadata": {},
   "source": [
    "![image](https://miro.medium.com/max/130/0*0VKi9Ov3jtpyEVdc.)"
   ]
  },
  {
   "cell_type": "markdown",
   "metadata": {},
   "source": [
    "where x̄ is the mean and there are n values of x. \n",
    "\n",
    "Σ means that you need to take the sum of all the data points."
   ]
  },
  {
   "cell_type": "markdown",
   "metadata": {},
   "source": [
    "### Median"
   ]
  },
  {
   "cell_type": "markdown",
   "metadata": {},
   "source": [
    "To calculate the median, sort the values and take the middle value. \n",
    "\n",
    "To illustrate let x denote the following numbers:\n",
    "\n",
    "x = [23, 40, 6, 74, 38, 1, 70]\n",
    "\n",
    "In this case, you would need to sort the list first and then take the midpoint to find the median.\n",
    "\n",
    "sorted_x = [1, 6, 23, 38, 40, 70, 74]"
   ]
  },
  {
   "cell_type": "markdown",
   "metadata": {},
   "source": [
    "In this case, the midpoint is 38 since the value 38 divides sorted x into 3 values which are smaller than 38 and three values which are higher than 38. \n",
    "\n",
    "Now, in case there are even number of values then the average of the two middle values are taken as the median. The advantage of the median over the mean is that median is less susceptible to outliers. \n",
    "\n",
    "So, in situations where there is a high chance that there may be outliers present in the data set, it is wiser to take the median instead of the mean. \n",
    "\n",
    "For example, to understand what is the per capita income of a country the median is taken because the rich may be extremely rich which would skew the average and show a different picture than what the average people might experience. \n",
    "\n",
    "In that case, probably, taking the median would give a better insight."
   ]
  },
  {
   "cell_type": "markdown",
   "metadata": {},
   "source": [
    "### Mode\n",
    "\n",
    "Mode represents the most common value in a data set. \n",
    "\n",
    "Mode is most useful when you need to understand clustering or number of ‘hits’. \n",
    "\n",
    "For example, a retailer may want to understand the mode of sizes purchased so that he can set stocking labels optimally. \n",
    "\n",
    "Say, store A has a mode of ‘small’ while store B has a mode of ‘XXL’."
   ]
  },
  {
   "cell_type": "markdown",
   "metadata": {},
   "source": [
    "### Mean Median Mode in Python"
   ]
  },
  {
   "cell_type": "code",
   "execution_count": 3,
   "metadata": {},
   "outputs": [
    {
     "name": "stdout",
     "output_type": "stream",
     "text": [
      "Mean is: 89.76923076923077\n",
      "Median is: 87.0\n",
      "ModeResult(mode=array([86]), count=array([3]))\n"
     ]
    }
   ],
   "source": [
    "import numpy as np\n",
    "from scipy import stats\n",
    "\n",
    "speed = [99,86,87,88,111,86,103,87,94,78,77,85,86]\n",
    "\n",
    "average = np.mean(speed)\n",
    "med = np.median(speed)\n",
    "mod = stats.mode(speed)\n",
    "\n",
    "print(f\"Mean is: {average}\")\n",
    "print(f\"Median is: {med}\")\n",
    "print(mod)"
   ]
  },
  {
   "cell_type": "markdown",
   "metadata": {},
   "source": [
    "Note that mode function returns a array of the most frequent number along with how many times it has repeated"
   ]
  },
  {
   "source": [
    "Other References:\n",
    "- https://www.youtube.com/watch?v=GvftKv9uctk"
   ],
   "cell_type": "markdown",
   "metadata": {}
  }
 ],
 "metadata": {
  "kernelspec": {
   "display_name": "Python 3",
   "language": "python",
   "name": "python3"
  },
  "language_info": {
   "codemirror_mode": {
    "name": "ipython",
    "version": 3
   },
   "file_extension": ".py",
   "mimetype": "text/x-python",
   "name": "python",
   "nbconvert_exporter": "python",
   "pygments_lexer": "ipython3",
   "version": "3.7.7"
  }
 },
 "nbformat": 4,
 "nbformat_minor": 4
}