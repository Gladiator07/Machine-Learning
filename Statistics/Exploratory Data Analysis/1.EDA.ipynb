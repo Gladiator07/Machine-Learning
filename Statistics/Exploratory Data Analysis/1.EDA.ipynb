{
 "cells": [
  {
   "cell_type": "markdown",
   "metadata": {},
   "source": [
    "# What is Exploratory Data Analysis?"
   ]
  },
  {
   "cell_type": "markdown",
   "metadata": {},
   "source": [
    "Some of the questions that EDA answers are:\n",
    "- How to ensure you are ready to use machine learning algorithms in a project?\n",
    "- How to choose the most suitable algorithms for your data set?\n",
    "- How to define the feature variables that can be potentially be used for machine learning?"
   ]
  },
  {
   "cell_type": "markdown",
   "metadata": {},
   "source": [
    "**Exploratory Data Analysis(EDA)** helps to answer all these questions, ensuring the best outcomes for the project. It is an approach for summarizing, visualizaing, and becoming intiamately familiar with the important charachteristics of a data set."
   ]
  },
  {
   "cell_type": "markdown",
   "metadata": {},
   "source": [
    "EDA is an approach to analyzing the datasets to summarize their main charachteristics, often with visual methods.\n",
    "\n",
    "In EDA, a statistical model can be used or not, but primarily EDA is for seeing what the data can tell us beyond the formal modelling or hypothesis testing task."
   ]
  },
  {
   "cell_type": "markdown",
   "metadata": {},
   "source": [
    "## Intiution with an example\n",
    "\n",
    "Imagine that you want to buy a new smartphone. You go to a local shop and the seller shows you the smartphone you never heard of.\n",
    "There is absolutely no debate about that, it will lead to a state where you find yourself puzzled with lot of questions which needs to be answered before you make a decision. \n",
    "\n",
    "Common questions you will ask, How is the camera?, How much is the RAM?, Is the screen amoled or not?, what is the memory size?, etc...\n",
    "\n",
    "As a regular practice, you would also see the reviews of that smartphone on the internet.\n",
    "\n",
    "Whatever investigating measures you would take before finally buying any smartphone, is nothing but what data scientists in their lingo call 'Exploratory Data Analysis'"
   ]
  },
  {
   "cell_type": "markdown",
   "metadata": {},
   "source": [
    "Exploratory Data Analysis refers to the critical process of performing initial investigations on data so as to discover patterns,to spot anomalies,to test hypothesis and to check assumptions with the help of summary statistics and graphical representations.\n",
    "\n",
    "It is a good practice to understand the data first and try to gather as many insights from it. \n",
    "\n",
    "EDA is all about making sense of data in hand, before getting dirty with it."
   ]
  },
  {
   "cell_type": "markdown",
   "metadata": {},
   "source": [
    "EDA is performed in order to define and refine the selection of feature variables that will be used for machine learning. \n",
    "\n",
    "Once data scientists become familiar with the data set, they often have to return to feature engineering step, since the initial features may turn out not to be serving their intended purpose. \n",
    "\n",
    "Once the EDA stage is complete, data scientists get a firm feature set they need for supervised and unsupervised machine learning."
   ]
  },
  {
   "cell_type": "code",
   "execution_count": null,
   "metadata": {},
   "outputs": [],
   "source": []
  }
 ],
 "metadata": {
  "kernelspec": {
   "display_name": "Python 3",
   "language": "python",
   "name": "python3"
  },
  "language_info": {
   "codemirror_mode": {
    "name": "ipython",
    "version": 3
   },
   "file_extension": ".py",
   "mimetype": "text/x-python",
   "name": "python",
   "nbconvert_exporter": "python",
   "pygments_lexer": "ipython3",
   "version": "3.7.7"
  }
 },
 "nbformat": 4,
 "nbformat_minor": 4
}
