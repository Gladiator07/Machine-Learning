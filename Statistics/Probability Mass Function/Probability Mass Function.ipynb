{
 "cells": [
  {
   "cell_type": "markdown",
   "metadata": {},
   "source": [
    "# Probability Mass Function"
   ]
  },
  {
   "cell_type": "markdown",
   "metadata": {},
   "source": [
    "This concept requires prerequisite knowledge of Random Variables \n",
    "If you want to brush up the knowledge, check out [this link](https://github.com/Gladiator07/Machine-Learning-Complete/tree/master/Statistics/Random%20Variable)"
   ]
  },
  {
   "cell_type": "markdown",
   "metadata": {},
   "source": [
    "The **probability mass function** is the function which describes he probability associated with the random variable X.\n",
    "\n",
    "The function is named P(X) or P(X=x) to avoid confusion.\n",
    "\n",
    "P(X=x) corresponds to the probability that the random variable X take the value x\n",
    "\n",
    "In more technical terms, PMF is a statistical term that describes the probability distribution of the *Discrete random variable*\n"
   ]
  },
  {
   "cell_type": "markdown",
   "metadata": {},
   "source": [
    "People often get confused between Probability Density Function (PDF) and Probability Mass Function (PMF).\n",
    "\n",
    "The PDF is applicable for continuous random variable while PMF is applicable for discrete random variable\n",
    "\n",
    "For ex: Throwing a dice (You can only select 1 to 6 numbers (countable) )"
   ]
  },
  {
   "cell_type": "markdown",
   "metadata": {},
   "source": [
    "![image](https://upload.wikimedia.org/wikipedia/commons/thumb/8/85/Discrete_probability_distrib.svg/330px-Discrete_probability_distrib.svg.png)"
   ]
  },
  {
   "cell_type": "markdown",
   "metadata": {},
   "source": [
    "Above is a sample graph of a PMF. All the vales of this function must be non-negative and sum up to 1"
   ]
  },
  {
   "cell_type": "markdown",
   "metadata": {},
   "source": [
    "#### Lets make the idea more concrete by an example"
   ]
  },
  {
   "attachments": {},
   "cell_type": "markdown",
   "metadata": {},
   "source": [
    "![image.png](https://i.ibb.co/P5fJ4Hh/all-dice.png)"
   ]
  },
  {
   "cell_type": "markdown",
   "metadata": {},
   "source": [
    "*Dice experiment illustrating discrete random variable and PMF*"
   ]
  },
  {
   "cell_type": "markdown",
   "metadata": {},
   "source": [
    "Let’s roll a die an infinite number of times and look at the proportion of 1, the proportion of 2 and so on. \n",
    "\n",
    "We call X the random variable that corresponds to the outcome of the dice roll. \n",
    "\n",
    "Thus the random variable X can only take the following discrete values: 1, 2, 3, 4, 5 or 6. It is thus a discrete random variable.\n",
    "\n",
    "The aim of the probability mass function is to describe the probability of each possible value. \n",
    "\n",
    "In our example, it describes the probability to get a 1, the probability to get a 2 and so on. In the case of a dice rolling experiment, we have the same probability to get each value (if we assume that the die is perfect). This means that we can write:"
   ]
  },
  {
   "attachments": {},
   "cell_type": "markdown",
   "metadata": {},
   "source": [
    "P(X=1) = P(X=2) = P(X=3) = P(X=4) = P(X=5) = P(X=6)"
   ]
  },
  {
   "cell_type": "markdown",
   "metadata": {},
   "source": [
    "Now, how can we calculate the probabilities P(X=1), P(X=2) etc.? Since we have 6 possible outcomes and that they are equiprobable we have:\n",
    "\n",
    "P(X=1) = P(X=2) = P(X=3) = P(X=4) = P(X=5) = P(X=6) = 1/6"
   ]
  },
  {
   "cell_type": "markdown",
   "metadata": {},
   "source": [
    "By the way, this distribution shows the same probability for each value: it is called the **uniform distribution.**\n",
    "\n",
    "The probability mass function could look something like:"
   ]
  },
  {
   "cell_type": "markdown",
   "metadata": {},
   "source": [
    "![image](https://i.ibb.co/8NHz0QY/mass.png)"
   ]
  },
  {
   "cell_type": "markdown",
   "metadata": {},
   "source": [
    "The y-axis gives the probability and x-axis the outcome."
   ]
  },
  {
   "cell_type": "markdown",
   "metadata": {},
   "source": [
    "#### Let’s reproduce this first example in code to be sure that everything is clear:"
   ]
  },
  {
   "cell_type": "code",
   "execution_count": 3,
   "metadata": {},
   "outputs": [
    {
     "data": {
      "image/png": "[encoded data removed]",
      "text/plain": [
       "<Figure size 432x288 with 1 Axes>"
      ]
     },
     "metadata": {
      "needs_background": "light"
     },
     "output_type": "display_data"
    }
   ],
   "source": [
    "import numpy as np\n",
    "import matplotlib.pyplot as plt\n",
    "\n",
    "num_throws = 10000\n",
    "outcomes = np.zeros(num_throws)\n",
    "for i in range(num_throws):\n",
    "    # let's roll the die\n",
    "    outcome = np.random.choice(['1', '2', '3', '4', '5', '6'])\n",
    "    outcomes[i] = outcome\n",
    "\n",
    "val, cnt = np.unique(outcomes, return_counts=True)\n",
    "prop = cnt / len(outcomes)\n",
    "\n",
    "# Now that we have rolled our die 10000 times, let's plot the results\n",
    "plt.bar(val, prop)\n",
    "plt.ylabel(\"Probability\")\n",
    "plt.xlabel(\"Outcome\")\n",
    "plt.show()\n",
    "plt.close()"
   ]
  },
  {
   "cell_type": "markdown",
   "metadata": {},
   "source": [
    "I created an array filled with 0 with the Numpy function zeros(). At each throw, I chose a value among the 6 possibilities. Then, I used the Numpy function unique() with the parameter return_counts set to True to get the number of each possible outcome. I plotted the proportion for each possible value.\n",
    "\n",
    "We can see that the distribution looks like a uniform distribution and that each outcome has a probability of around 1/6 (≈0.17)."
   ]
  },
  {
   "cell_type": "markdown",
   "metadata": {},
   "source": [
    "### Joint Probability Distribution\n",
    "\n",
    "Now let’s see what happens if we roll two dice. For each die, the outcomes are associated with a certain probability. \n",
    "\n",
    "We need two random variables to describe the game, let’s say that x corresponds to the first die and y to the second one. \n",
    "\n",
    "We also have two probability mass functions associated with the random variables: P(X) and P(Y). \n",
    "\n",
    "Here the possible values of the random variables (1, 2, 3, 4, 5 or 6) and the probability mass functions are actually the same for both dice, but it doesn’t need to be the case.\n",
    "\n",
    "The joint probability distribution is useful in the cases where we are interested in the probability that x takes a specific value while y takes another specific value. \n",
    "\n",
    "For instance, what would be the probability to get a 1 with the first dice and 2 with the second dice? \n",
    "\n",
    "The probabilities corresponding to every pair of values are written P(X=x,Y=y) or P(X,Y). This is what we call the joint probability."
   ]
  },
  {
   "cell_type": "markdown",
   "metadata": {},
   "source": [
    "For example, let’s calculate the probability to have a 1 with the first dice and a 2 in the second:\n",
    "\n",
    "![image](https://latex.codecogs.com/gif.latex?\\boldsymbol{\\mathbf{P(x=1,y=2)=\\frac{1}{6}*\\frac{1}{6}=\\frac{1}{36}\\approx0.028}})"
   ]
  }
 ],
 "metadata": {
  "kernelspec": {
   "display_name": "Python 3",
   "language": "python",
   "name": "python3"
  },
  "language_info": {
   "codemirror_mode": {
    "name": "ipython",
    "version": 3
   },
   "file_extension": ".py",
   "mimetype": "text/x-python",
   "name": "python",
   "nbconvert_exporter": "python",
   "pygments_lexer": "ipython3",
   "version": "3.7.7"
  }
 },
 "nbformat": 4,
 "nbformat_minor": 4
}
