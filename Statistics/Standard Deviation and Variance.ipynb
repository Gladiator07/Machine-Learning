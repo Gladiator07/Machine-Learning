{
 "cells": [
  {
   "cell_type": "markdown",
   "metadata": {},
   "source": [
    "# Standard Deviation"
   ]
  },
  {
   "cell_type": "markdown",
   "metadata": {},
   "source": [
    "In statistics, the standard deviation is a measure of the amount of variation or dispersion of a set of values.\n",
    "\n",
    "---\n",
    "A low standard deviation indicates that the values tend to be close to the **mean** (also called the expected value) of the set, while a high standard deviation indicates that the values are spread out over a wider range"
   ]
  },
  {
   "cell_type": "markdown",
   "metadata": {},
   "source": [
    "Standard Deviation is abbreviated as SD, and is most commonly represented by sigma σ, for the population standard deviation, or the Latin letter *s*, for the sample standard deviation"
   ]
  },
  {
   "cell_type": "markdown",
   "metadata": {},
   "source": [
    "The standard deviation of a random variable, statistical population, data set, or probability distribution is the square root of variance.\n",
    "\n",
    "Standard deviation is measure using the same units as the data"
   ]
  },
  {
   "cell_type": "markdown",
   "metadata": {},
   "source": [
    "To recap, basically standard deviation is the measure of dispersion, or how spread out values are in a dataset."
   ]
  },
  {
   "attachments": {
    "d9efc1fc-bf57-4db4-b83f-90d64a91b5c9.png": {
     "image/png": "[encoded data removed]"
    }
   },
   "cell_type": "markdown",
   "metadata": {},
   "source": [
    "![image.png](attachment:d9efc1fc-bf57-4db4-b83f-90d64a91b5c9.png)"
   ]
  },
  {
   "cell_type": "markdown",
   "metadata": {},
   "source": [
    "This is a plot of normal distribution where each band has a width of 1 standard deviation"
   ]
  },
  {
   "cell_type": "markdown",
   "metadata": {},
   "source": [
    "### Mathematical formula for standard deviation"
   ]
  },
  {
   "attachments": {
    "8ba5ad57-1bef-4c1a-ad57-6a865eae28de.png": {
     "image/png": "[encoded data removed]"
    }
   },
   "cell_type": "markdown",
   "metadata": {},
   "source": [
    "![image.png](attachment:8ba5ad57-1bef-4c1a-ad57-6a865eae28de.png)"
   ]
  },
  {
   "attachments": {
    "7fb1d3e7-f860-4d12-9abf-cce05462a162.png": {
     "image/png": "[encoded data removed]"
    },
    "ac94b976-7eea-42ee-b8ca-066cb8ec47f4.png": {
     "image/png": "[encoded data removed]"
    }
   },
   "cell_type": "markdown",
   "metadata": {},
   "source": [
    "σ = population standard deviation\n",
    "\n",
    "N = the size of the  population\n",
    "\n",
    "![image.png](attachment:ac94b976-7eea-42ee-b8ca-066cb8ec47f4.png)= each value from the population\n",
    "\n",
    "![image.png](attachment:7fb1d3e7-f860-4d12-9abf-cce05462a162.png) = the population mean"
   ]
  },
  {
   "cell_type": "markdown",
   "metadata": {},
   "source": [
    "---\n",
    "---"
   ]
  },
  {
   "cell_type": "markdown",
   "metadata": {},
   "source": [
    "# Variance"
   ]
  },
  {
   "cell_type": "markdown",
   "metadata": {},
   "source": [
    "In probability and statistics, variance is the expectation of the squared deviation of a random variable from its mean\n",
    "\n",
    "Informally, it measures how far a set of numbers is spread out from their average value.\n",
    "\n",
    "It is represented by $σ^2$ or Var(X), where X is a random variable"
   ]
  },
  {
   "cell_type": "markdown",
   "metadata": {},
   "source": [
    "### Formula for variance"
   ]
  },
  {
   "attachments": {
    "d2a160e8-fe1d-48f3-baee-3fc8325e7081.png": {
     "image/png": "[encoded data removed]"
    }
   },
   "cell_type": "markdown",
   "metadata": {},
   "source": [
    "![image.png](attachment:d2a160e8-fe1d-48f3-baee-3fc8325e7081.png)"
   ]
  },
  {
   "cell_type": "markdown",
   "metadata": {},
   "source": [
    "where $σ^2$ is the variance, N is the number of observations, X is the individual set of observations and μ is the mean"
   ]
  },
  {
   "cell_type": "markdown",
   "metadata": {},
   "source": [
    "![image](https://upload.wikimedia.org/wikipedia/commons/thumb/f/f9/Comparison_standard_deviations.svg/600px-Comparison_standard_deviations.svg.png)"
   ]
  },
  {
   "cell_type": "markdown",
   "metadata": {},
   "source": [
    "Example of samples from two populations with the same mean but different variances. The red population has mean 100 and variance 100 (SD=10) while the blue population has mean 100 and variance 2500 (SD=50)."
   ]
  },
  {
   "attachments": {
    "d03e04e1-6967-43ee-a319-d30700e224bb.png": {
     "image/png": "[encoded data removed]"
    }
   },
   "cell_type": "markdown",
   "metadata": {},
   "source": [
    "The variance can also be thought of as the covariance of a random variable with itself:\n",
    "\n",
    "![image.png](attachment:d03e04e1-6967-43ee-a319-d30700e224bb.png)"
   ]
  },
  {
   "cell_type": "markdown",
   "metadata": {},
   "source": [
    "---"
   ]
  },
  {
   "cell_type": "markdown",
   "metadata": {},
   "source": [
    "### Standard deviation in Python"
   ]
  },
  {
   "cell_type": "code",
   "execution_count": 2,
   "metadata": {},
   "outputs": [
    {
     "name": "stdout",
     "output_type": "stream",
     "text": [
      "Mean is 86.42857142857143:\n",
      "Standard Deviation is 0.9035079029052513: \n"
     ]
    }
   ],
   "source": [
    "import numpy as np\n",
    "\n",
    "age = [86, 87, 88, 86, 87, 85, 86]\n",
    "mean = np.mean(age)\n",
    "\n",
    "x = np.std(age)\n",
    "print(f\"Mean is {mean}:\")\n",
    "print(f\"Standard Deviation is {x}: \")"
   ]
  },
  {
   "cell_type": "markdown",
   "metadata": {},
   "source": [
    "In the above example, the value of standard deviation is low. So, it indicates that the data is distributed closely to the mean"
   ]
  },
  {
   "cell_type": "code",
   "execution_count": 3,
   "metadata": {},
   "outputs": [
    {
     "name": "stdout",
     "output_type": "stream",
     "text": [
      "Mean is 1528.1666666666667:\n",
      "Standard Deviation is 3205.1078721662743: \n"
     ]
    }
   ],
   "source": [
    "age = [90,98,100,89,8695,97]\n",
    "mean = np.mean(age)\n",
    "x = numpy.std(age)\n",
    "\n",
    "print(f\"Mean is {mean}:\")\n",
    "print(f\"Standard Deviation is {x}: \")"
   ]
  },
  {
   "cell_type": "markdown",
   "metadata": {},
   "source": [
    "In the above example, one outlier is introduced which results in higher value of standard deviation. This indicates that the data is spread out over a wider range (not closely distributed to mean)"
   ]
  },
  {
   "cell_type": "markdown",
   "metadata": {},
   "source": [
    "---"
   ]
  },
  {
   "cell_type": "markdown",
   "metadata": {},
   "source": [
    "### Variance in Python"
   ]
  },
  {
   "cell_type": "markdown",
   "metadata": {},
   "source": [
    "Note: Variance is just a sqaure of standard dec"
   ]
  },
  {
   "cell_type": "code",
   "execution_count": 5,
   "metadata": {},
   "outputs": [
    {
     "name": "stdout",
     "output_type": "stream",
     "text": [
      "Mean is 86.42857142857143:\n",
      "Variance is 0.8163265306122449: \n"
     ]
    }
   ],
   "source": [
    "age = [86, 87, 88, 86, 87, 85, 86]\n",
    "mean = np.mean(age)\n",
    "\n",
    "x = np.var(age)\n",
    "print(f\"Mean is {mean}:\")\n",
    "print(f\"Variance is {x}: \")"
   ]
  },
  {
   "cell_type": "code",
   "execution_count": 6,
   "metadata": {},
   "outputs": [
    {
     "name": "stdout",
     "output_type": "stream",
     "text": [
      "Mean is 1528.1666666666667:\n",
      "Variance is 10272716.472222222: \n"
     ]
    }
   ],
   "source": [
    "age = [90,98,100,89,8695,97]\n",
    "mean = np.mean(age)\n",
    "x = numpy.var(age)\n",
    "\n",
    "print(f\"Mean is {mean}:\")\n",
    "print(f\"Variance is {x}: \")"
   ]
  },
  {
   "cell_type": "markdown",
   "metadata": {},
   "source": [
    "### Other references:\n",
    "https://www.youtube.com/watch?v=1E7NU-uWalY - Krish Naik\n",
    "\n",
    "https://www.youtube.com/watch?v=SzZ6GpcfoQY - Josh Starmer"
   ]
  }
 ],
 "metadata": {
  "kernelspec": {
   "display_name": "Python 3",
   "language": "python",
   "name": "python3"
  },
  "language_info": {
   "codemirror_mode": {
    "name": "ipython",
    "version": 3
   },
   "file_extension": ".py",
   "mimetype": "text/x-python",
   "name": "python",
   "nbconvert_exporter": "python",
   "pygments_lexer": "ipython3",
   "version": "3.7.7"
  }
 },
 "nbformat": 4,
 "nbformat_minor": 4
}
